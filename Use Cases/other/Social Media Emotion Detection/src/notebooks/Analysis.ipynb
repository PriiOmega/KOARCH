{
 "cells": [
  {
   "cell_type": "code",
   "execution_count": 1,
   "metadata": {},
   "outputs": [],
   "source": [
    "import psycopg2 as pg\n",
    "import pandas.io.sql as psql\n",
    "\n",
    "import pandas as pd\n",
    "import matplotlib.pyplot as plt\n",
    "import seaborn as sns\n",
    "\n",
    "# Render our plots inline\n",
    "%matplotlib inline\n",
    "\n",
    "# set figure size\n",
    "plt.rcParams['figure.figsize'] = (15, 5)\n",
    "\n",
    "pd.options.display.float_format = '{:.2f}'.format\n",
    "\n",
    "pd.set_option('display.max_colwidth', -1)"
   ]
  },
  {
   "cell_type": "markdown",
   "metadata": {},
   "source": [
    "# Read from database"
   ]
  },
  {
   "cell_type": "code",
   "execution_count": 3,
   "metadata": {},
   "outputs": [],
   "source": [
    "connection_users = pg.connect(\"host='1c_postgres_db' port=5432 dbname=postgres user=postgres\")\n",
    "connection_updates = pg.connect(\"host='3c_postgres_db' port=5432 dbname=postgres user=postgres\")"
   ]
  },
  {
   "cell_type": "code",
   "execution_count": 4,
   "metadata": {},
   "outputs": [],
   "source": [
    "df_users = pd.read_sql_query('select * from twitter_users',\n",
    "                       con=connection_users)"
   ]
  },
  {
   "cell_type": "code",
   "execution_count": 5,
   "metadata": {},
   "outputs": [],
   "source": [
    "df = pd.read_sql_query('select * from twitter_updates',\n",
    "                       con=connection_updates, \n",
    "                       parse_dates=['status_created_at'],)"
   ]
  },
  {
   "cell_type": "markdown",
   "metadata": {},
   "source": [
    "# Data overview\n",
    "\n",
    "### User data"
   ]
  },
  {
   "cell_type": "code",
   "execution_count": 6,
   "metadata": {},
   "outputs": [
    {
     "data": {
      "text/html": [
       "<div>\n",
       "<style scoped>\n",
       "    .dataframe tbody tr th:only-of-type {\n",
       "        vertical-align: middle;\n",
       "    }\n",
       "\n",
       "    .dataframe tbody tr th {\n",
       "        vertical-align: top;\n",
       "    }\n",
       "\n",
       "    .dataframe thead th {\n",
       "        text-align: right;\n",
       "    }\n",
       "</style>\n",
       "<table border=\"1\" class=\"dataframe\">\n",
       "  <thead>\n",
       "    <tr style=\"text-align: right;\">\n",
       "      <th></th>\n",
       "      <th>user_id</th>\n",
       "      <th>user_name</th>\n",
       "      <th>user_location</th>\n",
       "      <th>account_created_at</th>\n",
       "      <th>statuses_count</th>\n",
       "      <th>favorites_count</th>\n",
       "      <th>followers_count</th>\n",
       "      <th>friends_count</th>\n",
       "      <th>verified</th>\n",
       "    </tr>\n",
       "  </thead>\n",
       "  <tbody>\n",
       "    <tr>\n",
       "      <td>0</td>\n",
       "      <td>1177221975921610753</td>\n",
       "      <td>Bobby D</td>\n",
       "      <td>NC</td>\n",
       "      <td>2019-09-26 14:03:56</td>\n",
       "      <td>79786</td>\n",
       "      <td>10942</td>\n",
       "      <td>20128</td>\n",
       "      <td>20025</td>\n",
       "      <td>False</td>\n",
       "    </tr>\n",
       "    <tr>\n",
       "      <td>1</td>\n",
       "      <td>1003204424</td>\n",
       "      <td>steven creager</td>\n",
       "      <td></td>\n",
       "      <td>2012-12-11 03:30:10</td>\n",
       "      <td>1694</td>\n",
       "      <td>166</td>\n",
       "      <td>1698</td>\n",
       "      <td>3881</td>\n",
       "      <td>False</td>\n",
       "    </tr>\n",
       "    <tr>\n",
       "      <td>2</td>\n",
       "      <td>898652658516578304</td>\n",
       "      <td>Chris</td>\n",
       "      <td>Derry, PA USA</td>\n",
       "      <td>2017-08-18 21:07:44</td>\n",
       "      <td>45547</td>\n",
       "      <td>40543</td>\n",
       "      <td>5946</td>\n",
       "      <td>6192</td>\n",
       "      <td>False</td>\n",
       "    </tr>\n",
       "    <tr>\n",
       "      <td>3</td>\n",
       "      <td>1208452508777164800</td>\n",
       "      <td>Mimialoha</td>\n",
       "      <td>Oklahoma, USA</td>\n",
       "      <td>2019-12-21 18:22:08</td>\n",
       "      <td>19418</td>\n",
       "      <td>28698</td>\n",
       "      <td>1308</td>\n",
       "      <td>1689</td>\n",
       "      <td>False</td>\n",
       "    </tr>\n",
       "    <tr>\n",
       "      <td>4</td>\n",
       "      <td>809097998668075010</td>\n",
       "      <td>CathyS</td>\n",
       "      <td>North Carolina, USA</td>\n",
       "      <td>2016-12-14 18:09:30</td>\n",
       "      <td>1479</td>\n",
       "      <td>47175</td>\n",
       "      <td>1401</td>\n",
       "      <td>1690</td>\n",
       "      <td>False</td>\n",
       "    </tr>\n",
       "  </tbody>\n",
       "</table>\n",
       "</div>"
      ],
      "text/plain": [
       "               user_id       user_name        user_location  \\\n",
       "0  1177221975921610753  Bobby D         NC                    \n",
       "1  1003204424           steven creager                        \n",
       "2  898652658516578304   Chris           Derry, PA USA         \n",
       "3  1208452508777164800  Mimialoha       Oklahoma, USA         \n",
       "4  809097998668075010   CathyS          North Carolina, USA   \n",
       "\n",
       "   account_created_at  statuses_count  favorites_count  followers_count  \\\n",
       "0 2019-09-26 14:03:56  79786           10942            20128             \n",
       "1 2012-12-11 03:30:10  1694            166              1698              \n",
       "2 2017-08-18 21:07:44  45547           40543            5946              \n",
       "3 2019-12-21 18:22:08  19418           28698            1308              \n",
       "4 2016-12-14 18:09:30  1479            47175            1401              \n",
       "\n",
       "   friends_count  verified  \n",
       "0  20025          False     \n",
       "1  3881           False     \n",
       "2  6192           False     \n",
       "3  1689           False     \n",
       "4  1690           False     "
      ]
     },
     "execution_count": 6,
     "metadata": {},
     "output_type": "execute_result"
    }
   ],
   "source": [
    "df_users.head(5)"
   ]
  },
  {
   "cell_type": "code",
   "execution_count": 7,
   "metadata": {},
   "outputs": [
    {
     "data": {
      "text/html": [
       "<div>\n",
       "<style scoped>\n",
       "    .dataframe tbody tr th:only-of-type {\n",
       "        vertical-align: middle;\n",
       "    }\n",
       "\n",
       "    .dataframe tbody tr th {\n",
       "        vertical-align: top;\n",
       "    }\n",
       "\n",
       "    .dataframe thead th {\n",
       "        text-align: right;\n",
       "    }\n",
       "</style>\n",
       "<table border=\"1\" class=\"dataframe\">\n",
       "  <thead>\n",
       "    <tr style=\"text-align: right;\">\n",
       "      <th></th>\n",
       "      <th>statuses_count</th>\n",
       "      <th>favorites_count</th>\n",
       "      <th>followers_count</th>\n",
       "      <th>friends_count</th>\n",
       "    </tr>\n",
       "  </thead>\n",
       "  <tbody>\n",
       "    <tr>\n",
       "      <td>mean</td>\n",
       "      <td>21562.62</td>\n",
       "      <td>16220.81</td>\n",
       "      <td>24475.17</td>\n",
       "      <td>23557.26</td>\n",
       "    </tr>\n",
       "    <tr>\n",
       "      <td>std</td>\n",
       "      <td>78051.79</td>\n",
       "      <td>39418.01</td>\n",
       "      <td>133776.56</td>\n",
       "      <td>123961.93</td>\n",
       "    </tr>\n",
       "    <tr>\n",
       "      <td>min</td>\n",
       "      <td>1.00</td>\n",
       "      <td>0.00</td>\n",
       "      <td>0.00</td>\n",
       "      <td>7.00</td>\n",
       "    </tr>\n",
       "    <tr>\n",
       "      <td>25%</td>\n",
       "      <td>429.00</td>\n",
       "      <td>628.75</td>\n",
       "      <td>202.75</td>\n",
       "      <td>647.25</td>\n",
       "    </tr>\n",
       "    <tr>\n",
       "      <td>50%</td>\n",
       "      <td>1678.00</td>\n",
       "      <td>1752.00</td>\n",
       "      <td>652.00</td>\n",
       "      <td>1568.50</td>\n",
       "    </tr>\n",
       "    <tr>\n",
       "      <td>75%</td>\n",
       "      <td>8288.75</td>\n",
       "      <td>14140.75</td>\n",
       "      <td>1623.75</td>\n",
       "      <td>3144.00</td>\n",
       "    </tr>\n",
       "    <tr>\n",
       "      <td>max</td>\n",
       "      <td>502175.00</td>\n",
       "      <td>240503.00</td>\n",
       "      <td>865717.00</td>\n",
       "      <td>802516.00</td>\n",
       "    </tr>\n",
       "  </tbody>\n",
       "</table>\n",
       "</div>"
      ],
      "text/plain": [
       "      statuses_count  favorites_count  followers_count  friends_count\n",
       "mean 21562.62        16220.81         24475.17         23557.26      \n",
       "std  78051.79        39418.01         133776.56        123961.93     \n",
       "min  1.00            0.00             0.00             7.00          \n",
       "25%  429.00          628.75           202.75           647.25        \n",
       "50%  1678.00         1752.00          652.00           1568.50       \n",
       "75%  8288.75         14140.75         1623.75          3144.00       \n",
       "max  502175.00       240503.00        865717.00        802516.00     "
      ]
     },
     "execution_count": 7,
     "metadata": {},
     "output_type": "execute_result"
    }
   ],
   "source": [
    "df_users.describe().drop('count')"
   ]
  },
  {
   "cell_type": "code",
   "execution_count": 8,
   "metadata": {},
   "outputs": [
    {
     "name": "stdout",
     "output_type": "stream",
     "text": [
      "<class 'pandas.core.frame.DataFrame'>\n",
      "RangeIndex: 42 entries, 0 to 41\n",
      "Data columns (total 9 columns):\n",
      "user_id               42 non-null object\n",
      "user_name             42 non-null object\n",
      "user_location         42 non-null object\n",
      "account_created_at    42 non-null datetime64[ns]\n",
      "statuses_count        42 non-null int64\n",
      "favorites_count       42 non-null int64\n",
      "followers_count       42 non-null int64\n",
      "friends_count         42 non-null int64\n",
      "verified              42 non-null bool\n",
      "dtypes: bool(1), datetime64[ns](1), int64(4), object(3)\n",
      "memory usage: 2.8+ KB\n"
     ]
    }
   ],
   "source": [
    "df_users.info()"
   ]
  },
  {
   "cell_type": "markdown",
   "metadata": {},
   "source": [
    "### User updates"
   ]
  },
  {
   "cell_type": "code",
   "execution_count": 9,
   "metadata": {},
   "outputs": [
    {
     "name": "stdout",
     "output_type": "stream",
     "text": [
      "1303 Rows x  11 Columns\n"
     ]
    }
   ],
   "source": [
    "rows, columns = df.shape\n",
    "print(rows,'Rows x ', columns, 'Columns')"
   ]
  },
  {
   "cell_type": "code",
   "execution_count": 10,
   "metadata": {},
   "outputs": [
    {
     "name": "stdout",
     "output_type": "stream",
     "text": [
      "<class 'pandas.core.frame.DataFrame'>\n",
      "RangeIndex: 1303 entries, 0 to 1302\n",
      "Data columns (total 11 columns):\n",
      "status_id            1303 non-null object\n",
      "user_id              1303 non-null object\n",
      "status_created_at    1303 non-null datetime64[ns]\n",
      "text                 1303 non-null object\n",
      "retweet_count        1303 non-null int64\n",
      "anger                1303 non-null float64\n",
      "disgust              1303 non-null float64\n",
      "fear                 1303 non-null float64\n",
      "joy                  1303 non-null float64\n",
      "sadness              1303 non-null float64\n",
      "surprise             1303 non-null float64\n",
      "dtypes: datetime64[ns](1), float64(6), int64(1), object(3)\n",
      "memory usage: 112.1+ KB\n"
     ]
    }
   ],
   "source": [
    "df.info()"
   ]
  },
  {
   "cell_type": "code",
   "execution_count": 25,
   "metadata": {},
   "outputs": [
    {
     "data": {
      "text/html": [
       "<style  type=\"text/css\" >\n",
       "</style><table id=\"T_d09dcfbc_5587_11ea_840e_0242c0a8100f\" ><thead>    <tr>        <th class=\"blank level0\" ></th>        <th class=\"col_heading level0 col0\" >anger</th>        <th class=\"col_heading level0 col1\" >disgust</th>        <th class=\"col_heading level0 col2\" >fear</th>        <th class=\"col_heading level0 col3\" >joy</th>        <th class=\"col_heading level0 col4\" >sadness</th>        <th class=\"col_heading level0 col5\" >surprise</th>        <th class=\"col_heading level0 col6\" >nr_of_status_in_dataset</th>    </tr></thead><tbody>\n",
       "                <tr>\n",
       "                        <th id=\"T_d09dcfbc_5587_11ea_840e_0242c0a8100flevel0_row0\" class=\"row_heading level0 row0\" >mean</th>\n",
       "                        <td id=\"T_d09dcfbc_5587_11ea_840e_0242c0a8100frow0_col0\" class=\"data row0 col0\" >1.3%</td>\n",
       "                        <td id=\"T_d09dcfbc_5587_11ea_840e_0242c0a8100frow0_col1\" class=\"data row0 col1\" >0.6%</td>\n",
       "                        <td id=\"T_d09dcfbc_5587_11ea_840e_0242c0a8100frow0_col2\" class=\"data row0 col2\" >11.6%</td>\n",
       "                        <td id=\"T_d09dcfbc_5587_11ea_840e_0242c0a8100frow0_col3\" class=\"data row0 col3\" >58.9%</td>\n",
       "                        <td id=\"T_d09dcfbc_5587_11ea_840e_0242c0a8100frow0_col4\" class=\"data row0 col4\" >3.8%</td>\n",
       "                        <td id=\"T_d09dcfbc_5587_11ea_840e_0242c0a8100frow0_col5\" class=\"data row0 col5\" >23.8%</td>\n",
       "                        <td id=\"T_d09dcfbc_5587_11ea_840e_0242c0a8100frow0_col6\" class=\"data row0 col6\" >756.461</td>\n",
       "            </tr>\n",
       "            <tr>\n",
       "                        <th id=\"T_d09dcfbc_5587_11ea_840e_0242c0a8100flevel0_row1\" class=\"row_heading level0 row1\" >std</th>\n",
       "                        <td id=\"T_d09dcfbc_5587_11ea_840e_0242c0a8100frow1_col0\" class=\"data row1 col0\" >2.8%</td>\n",
       "                        <td id=\"T_d09dcfbc_5587_11ea_840e_0242c0a8100frow1_col1\" class=\"data row1 col1\" >1.7%</td>\n",
       "                        <td id=\"T_d09dcfbc_5587_11ea_840e_0242c0a8100frow1_col2\" class=\"data row1 col2\" >17.2%</td>\n",
       "                        <td id=\"T_d09dcfbc_5587_11ea_840e_0242c0a8100frow1_col3\" class=\"data row1 col3\" >33.0%</td>\n",
       "                        <td id=\"T_d09dcfbc_5587_11ea_840e_0242c0a8100frow1_col4\" class=\"data row1 col4\" >10.5%</td>\n",
       "                        <td id=\"T_d09dcfbc_5587_11ea_840e_0242c0a8100frow1_col5\" class=\"data row1 col5\" >26.8%</td>\n",
       "                        <td id=\"T_d09dcfbc_5587_11ea_840e_0242c0a8100frow1_col6\" class=\"data row1 col6\" >239.603</td>\n",
       "            </tr>\n",
       "            <tr>\n",
       "                        <th id=\"T_d09dcfbc_5587_11ea_840e_0242c0a8100flevel0_row2\" class=\"row_heading level0 row2\" >min</th>\n",
       "                        <td id=\"T_d09dcfbc_5587_11ea_840e_0242c0a8100frow2_col0\" class=\"data row2 col0\" >0.0%</td>\n",
       "                        <td id=\"T_d09dcfbc_5587_11ea_840e_0242c0a8100frow2_col1\" class=\"data row2 col1\" >0.0%</td>\n",
       "                        <td id=\"T_d09dcfbc_5587_11ea_840e_0242c0a8100frow2_col2\" class=\"data row2 col2\" >0.0%</td>\n",
       "                        <td id=\"T_d09dcfbc_5587_11ea_840e_0242c0a8100frow2_col3\" class=\"data row2 col3\" >0.1%</td>\n",
       "                        <td id=\"T_d09dcfbc_5587_11ea_840e_0242c0a8100frow2_col4\" class=\"data row2 col4\" >0.0%</td>\n",
       "                        <td id=\"T_d09dcfbc_5587_11ea_840e_0242c0a8100frow2_col5\" class=\"data row2 col5\" >0.0%</td>\n",
       "                        <td id=\"T_d09dcfbc_5587_11ea_840e_0242c0a8100frow2_col6\" class=\"data row2 col6\" >390</td>\n",
       "            </tr>\n",
       "            <tr>\n",
       "                        <th id=\"T_d09dcfbc_5587_11ea_840e_0242c0a8100flevel0_row3\" class=\"row_heading level0 row3\" >25%</th>\n",
       "                        <td id=\"T_d09dcfbc_5587_11ea_840e_0242c0a8100frow3_col0\" class=\"data row3 col0\" >0.1%</td>\n",
       "                        <td id=\"T_d09dcfbc_5587_11ea_840e_0242c0a8100frow3_col1\" class=\"data row3 col1\" >0.0%</td>\n",
       "                        <td id=\"T_d09dcfbc_5587_11ea_840e_0242c0a8100frow3_col2\" class=\"data row3 col2\" >1.3%</td>\n",
       "                        <td id=\"T_d09dcfbc_5587_11ea_840e_0242c0a8100frow3_col3\" class=\"data row3 col3\" >28.5%</td>\n",
       "                        <td id=\"T_d09dcfbc_5587_11ea_840e_0242c0a8100frow3_col4\" class=\"data row3 col4\" >0.0%</td>\n",
       "                        <td id=\"T_d09dcfbc_5587_11ea_840e_0242c0a8100frow3_col5\" class=\"data row3 col5\" >0.0%</td>\n",
       "                        <td id=\"T_d09dcfbc_5587_11ea_840e_0242c0a8100frow3_col6\" class=\"data row3 col6\" >390</td>\n",
       "            </tr>\n",
       "            <tr>\n",
       "                        <th id=\"T_d09dcfbc_5587_11ea_840e_0242c0a8100flevel0_row4\" class=\"row_heading level0 row4\" >50%</th>\n",
       "                        <td id=\"T_d09dcfbc_5587_11ea_840e_0242c0a8100frow4_col0\" class=\"data row4 col0\" >0.3%</td>\n",
       "                        <td id=\"T_d09dcfbc_5587_11ea_840e_0242c0a8100frow4_col1\" class=\"data row4 col1\" >0.1%</td>\n",
       "                        <td id=\"T_d09dcfbc_5587_11ea_840e_0242c0a8100frow4_col2\" class=\"data row4 col2\" >4.6%</td>\n",
       "                        <td id=\"T_d09dcfbc_5587_11ea_840e_0242c0a8100frow4_col3\" class=\"data row4 col3\" >60.4%</td>\n",
       "                        <td id=\"T_d09dcfbc_5587_11ea_840e_0242c0a8100frow4_col4\" class=\"data row4 col4\" >0.5%</td>\n",
       "                        <td id=\"T_d09dcfbc_5587_11ea_840e_0242c0a8100frow4_col5\" class=\"data row4 col5\" >14.2%</td>\n",
       "                        <td id=\"T_d09dcfbc_5587_11ea_840e_0242c0a8100frow4_col6\" class=\"data row4 col6\" >913</td>\n",
       "            </tr>\n",
       "            <tr>\n",
       "                        <th id=\"T_d09dcfbc_5587_11ea_840e_0242c0a8100flevel0_row5\" class=\"row_heading level0 row5\" >75%</th>\n",
       "                        <td id=\"T_d09dcfbc_5587_11ea_840e_0242c0a8100frow5_col0\" class=\"data row5 col0\" >1.3%</td>\n",
       "                        <td id=\"T_d09dcfbc_5587_11ea_840e_0242c0a8100frow5_col1\" class=\"data row5 col1\" >0.4%</td>\n",
       "                        <td id=\"T_d09dcfbc_5587_11ea_840e_0242c0a8100frow5_col2\" class=\"data row5 col2\" >13.6%</td>\n",
       "                        <td id=\"T_d09dcfbc_5587_11ea_840e_0242c0a8100frow5_col3\" class=\"data row5 col3\" >94.0%</td>\n",
       "                        <td id=\"T_d09dcfbc_5587_11ea_840e_0242c0a8100frow5_col4\" class=\"data row5 col4\" >2.7%</td>\n",
       "                        <td id=\"T_d09dcfbc_5587_11ea_840e_0242c0a8100frow5_col5\" class=\"data row5 col5\" >40.4%</td>\n",
       "                        <td id=\"T_d09dcfbc_5587_11ea_840e_0242c0a8100frow5_col6\" class=\"data row5 col6\" >913</td>\n",
       "            </tr>\n",
       "            <tr>\n",
       "                        <th id=\"T_d09dcfbc_5587_11ea_840e_0242c0a8100flevel0_row6\" class=\"row_heading level0 row6\" >max</th>\n",
       "                        <td id=\"T_d09dcfbc_5587_11ea_840e_0242c0a8100frow6_col0\" class=\"data row6 col0\" >30.4%</td>\n",
       "                        <td id=\"T_d09dcfbc_5587_11ea_840e_0242c0a8100frow6_col1\" class=\"data row6 col1\" >27.1%</td>\n",
       "                        <td id=\"T_d09dcfbc_5587_11ea_840e_0242c0a8100frow6_col2\" class=\"data row6 col2\" >98.7%</td>\n",
       "                        <td id=\"T_d09dcfbc_5587_11ea_840e_0242c0a8100frow6_col3\" class=\"data row6 col3\" >100.0%</td>\n",
       "                        <td id=\"T_d09dcfbc_5587_11ea_840e_0242c0a8100frow6_col4\" class=\"data row6 col4\" >99.4%</td>\n",
       "                        <td id=\"T_d09dcfbc_5587_11ea_840e_0242c0a8100frow6_col5\" class=\"data row6 col5\" >99.4%</td>\n",
       "                        <td id=\"T_d09dcfbc_5587_11ea_840e_0242c0a8100frow6_col6\" class=\"data row6 col6\" >913</td>\n",
       "            </tr>\n",
       "    </tbody></table>"
      ],
      "text/plain": [
       "<pandas.io.formats.style.Styler at 0x7f86707b7588>"
      ]
     },
     "execution_count": 25,
     "metadata": {},
     "output_type": "execute_result"
    }
   ],
   "source": [
    "df.describe().drop('count').drop(['retweet_count'], axis=1).style.format({'anger': \"{:.1%}\", 'disgust': \"{:.1%}\", 'fear': \"{:.1%}\", 'joy': \"{:.1%}\", 'sadness': \"{:.1%}\", 'surprise': \"{:.1%}\"})"
   ]
  },
  {
   "cell_type": "code",
   "execution_count": 12,
   "metadata": {
    "scrolled": true
   },
   "outputs": [
    {
     "data": {
      "text/html": [
       "<div>\n",
       "<style scoped>\n",
       "    .dataframe tbody tr th:only-of-type {\n",
       "        vertical-align: middle;\n",
       "    }\n",
       "\n",
       "    .dataframe tbody tr th {\n",
       "        vertical-align: top;\n",
       "    }\n",
       "\n",
       "    .dataframe thead th {\n",
       "        text-align: right;\n",
       "    }\n",
       "</style>\n",
       "<table border=\"1\" class=\"dataframe\">\n",
       "  <thead>\n",
       "    <tr style=\"text-align: right;\">\n",
       "      <th></th>\n",
       "      <th>status_id</th>\n",
       "      <th>user_id</th>\n",
       "      <th>status_created_at</th>\n",
       "      <th>text</th>\n",
       "      <th>retweet_count</th>\n",
       "      <th>anger</th>\n",
       "      <th>disgust</th>\n",
       "      <th>fear</th>\n",
       "      <th>joy</th>\n",
       "      <th>sadness</th>\n",
       "      <th>surprise</th>\n",
       "    </tr>\n",
       "  </thead>\n",
       "  <tbody>\n",
       "    <tr>\n",
       "      <td>0</td>\n",
       "      <td>849487356289839106</td>\n",
       "      <td>18500852</td>\n",
       "      <td>2017-04-05 05:02:23</td>\n",
       "      <td>Thanks so much! https://t.co/xTL6fY7Fd7</td>\n",
       "      <td>6</td>\n",
       "      <td>0.01</td>\n",
       "      <td>0.00</td>\n",
       "      <td>0.00</td>\n",
       "      <td>0.29</td>\n",
       "      <td>0.00</td>\n",
       "      <td>0.70</td>\n",
       "    </tr>\n",
       "    <tr>\n",
       "      <td>1</td>\n",
       "      <td>848290670926286848</td>\n",
       "      <td>18500852</td>\n",
       "      <td>2017-04-01 21:47:11</td>\n",
       "      <td>@BAFastestMan Promise to let you know once it does!</td>\n",
       "      <td>1</td>\n",
       "      <td>0.02</td>\n",
       "      <td>0.01</td>\n",
       "      <td>0.14</td>\n",
       "      <td>0.16</td>\n",
       "      <td>0.02</td>\n",
       "      <td>0.65</td>\n",
       "    </tr>\n",
       "    <tr>\n",
       "      <td>2</td>\n",
       "      <td>848289925552373762</td>\n",
       "      <td>18500852</td>\n",
       "      <td>2017-04-01 21:44:13</td>\n",
       "      <td>@CalzerBrown Thank you Callum!</td>\n",
       "      <td>1</td>\n",
       "      <td>0.01</td>\n",
       "      <td>0.00</td>\n",
       "      <td>0.12</td>\n",
       "      <td>0.76</td>\n",
       "      <td>0.00</td>\n",
       "      <td>0.11</td>\n",
       "    </tr>\n",
       "    <tr>\n",
       "      <td>3</td>\n",
       "      <td>848289528787939328</td>\n",
       "      <td>18500852</td>\n",
       "      <td>2017-04-01 21:42:38</td>\n",
       "      <td>RT @khalisound: Dope tone HELIUM @MikeyWax Download on iTunes https://t.co/F7sGV62wiW</td>\n",
       "      <td>2</td>\n",
       "      <td>0.01</td>\n",
       "      <td>0.01</td>\n",
       "      <td>0.06</td>\n",
       "      <td>0.08</td>\n",
       "      <td>0.04</td>\n",
       "      <td>0.80</td>\n",
       "    </tr>\n",
       "    <tr>\n",
       "      <td>4</td>\n",
       "      <td>848289342070157316</td>\n",
       "      <td>18500852</td>\n",
       "      <td>2017-04-01 21:41:54</td>\n",
       "      <td>@IamShawty25 Thx Becca!</td>\n",
       "      <td>2</td>\n",
       "      <td>0.01</td>\n",
       "      <td>0.01</td>\n",
       "      <td>0.14</td>\n",
       "      <td>0.30</td>\n",
       "      <td>0.05</td>\n",
       "      <td>0.49</td>\n",
       "    </tr>\n",
       "  </tbody>\n",
       "</table>\n",
       "</div>"
      ],
      "text/plain": [
       "            status_id   user_id   status_created_at  \\\n",
       "0  849487356289839106  18500852 2017-04-05 05:02:23   \n",
       "1  848290670926286848  18500852 2017-04-01 21:47:11   \n",
       "2  848289925552373762  18500852 2017-04-01 21:44:13   \n",
       "3  848289528787939328  18500852 2017-04-01 21:42:38   \n",
       "4  848289342070157316  18500852 2017-04-01 21:41:54   \n",
       "\n",
       "                                                                                    text  \\\n",
       "0  Thanks so much! https://t.co/xTL6fY7Fd7                                                 \n",
       "1  @BAFastestMan Promise to let you know once it does!                                     \n",
       "2  @CalzerBrown Thank you Callum!                                                          \n",
       "3  RT @khalisound: Dope tone HELIUM @MikeyWax Download on iTunes https://t.co/F7sGV62wiW   \n",
       "4  @IamShawty25 Thx Becca!                                                                 \n",
       "\n",
       "   retweet_count  anger  disgust  fear  joy  sadness  surprise  \n",
       "0  6             0.01   0.00     0.00  0.29 0.00     0.70       \n",
       "1  1             0.02   0.01     0.14  0.16 0.02     0.65       \n",
       "2  1             0.01   0.00     0.12  0.76 0.00     0.11       \n",
       "3  2             0.01   0.01     0.06  0.08 0.04     0.80       \n",
       "4  2             0.01   0.01     0.14  0.30 0.05     0.49       "
      ]
     },
     "execution_count": 12,
     "metadata": {},
     "output_type": "execute_result"
    }
   ],
   "source": [
    "df.head()"
   ]
  },
  {
   "cell_type": "markdown",
   "metadata": {},
   "source": [
    "# Number of users"
   ]
  },
  {
   "cell_type": "code",
   "execution_count": 13,
   "metadata": {},
   "outputs": [
    {
     "data": {
      "text/plain": [
       "2"
      ]
     },
     "execution_count": 13,
     "metadata": {},
     "output_type": "execute_result"
    }
   ],
   "source": [
    "df_user_id_count = df['user_id'].nunique()\n",
    "df_user_id_count"
   ]
  },
  {
   "cell_type": "markdown",
   "metadata": {},
   "source": [
    "# Number of tweets per user"
   ]
  },
  {
   "cell_type": "code",
   "execution_count": 14,
   "metadata": {},
   "outputs": [
    {
     "data": {
      "text/html": [
       "<div>\n",
       "<style scoped>\n",
       "    .dataframe tbody tr th:only-of-type {\n",
       "        vertical-align: middle;\n",
       "    }\n",
       "\n",
       "    .dataframe tbody tr th {\n",
       "        vertical-align: top;\n",
       "    }\n",
       "\n",
       "    .dataframe thead th {\n",
       "        text-align: right;\n",
       "    }\n",
       "</style>\n",
       "<table border=\"1\" class=\"dataframe\">\n",
       "  <thead>\n",
       "    <tr style=\"text-align: right;\">\n",
       "      <th></th>\n",
       "      <th>status_id</th>\n",
       "      <th>user_id</th>\n",
       "      <th>status_created_at</th>\n",
       "      <th>text</th>\n",
       "      <th>retweet_count</th>\n",
       "      <th>anger</th>\n",
       "      <th>disgust</th>\n",
       "      <th>fear</th>\n",
       "      <th>joy</th>\n",
       "      <th>sadness</th>\n",
       "      <th>surprise</th>\n",
       "      <th>nr_of_status_in_dataset</th>\n",
       "    </tr>\n",
       "  </thead>\n",
       "  <tbody>\n",
       "    <tr>\n",
       "      <td>0</td>\n",
       "      <td>849487356289839106</td>\n",
       "      <td>18500852</td>\n",
       "      <td>2017-04-05 05:02:23</td>\n",
       "      <td>Thanks so much! https://t.co/xTL6fY7Fd7</td>\n",
       "      <td>6</td>\n",
       "      <td>0.01</td>\n",
       "      <td>0.00</td>\n",
       "      <td>0.00</td>\n",
       "      <td>0.29</td>\n",
       "      <td>0.00</td>\n",
       "      <td>0.70</td>\n",
       "      <td>390</td>\n",
       "    </tr>\n",
       "    <tr>\n",
       "      <td>1</td>\n",
       "      <td>848290670926286848</td>\n",
       "      <td>18500852</td>\n",
       "      <td>2017-04-01 21:47:11</td>\n",
       "      <td>@BAFastestMan Promise to let you know once it does!</td>\n",
       "      <td>1</td>\n",
       "      <td>0.02</td>\n",
       "      <td>0.01</td>\n",
       "      <td>0.14</td>\n",
       "      <td>0.16</td>\n",
       "      <td>0.02</td>\n",
       "      <td>0.65</td>\n",
       "      <td>390</td>\n",
       "    </tr>\n",
       "    <tr>\n",
       "      <td>2</td>\n",
       "      <td>848289925552373762</td>\n",
       "      <td>18500852</td>\n",
       "      <td>2017-04-01 21:44:13</td>\n",
       "      <td>@CalzerBrown Thank you Callum!</td>\n",
       "      <td>1</td>\n",
       "      <td>0.01</td>\n",
       "      <td>0.00</td>\n",
       "      <td>0.12</td>\n",
       "      <td>0.76</td>\n",
       "      <td>0.00</td>\n",
       "      <td>0.11</td>\n",
       "      <td>390</td>\n",
       "    </tr>\n",
       "    <tr>\n",
       "      <td>3</td>\n",
       "      <td>848289528787939328</td>\n",
       "      <td>18500852</td>\n",
       "      <td>2017-04-01 21:42:38</td>\n",
       "      <td>RT @khalisound: Dope tone HELIUM @MikeyWax Download on iTunes https://t.co/F7sGV62wiW</td>\n",
       "      <td>2</td>\n",
       "      <td>0.01</td>\n",
       "      <td>0.01</td>\n",
       "      <td>0.06</td>\n",
       "      <td>0.08</td>\n",
       "      <td>0.04</td>\n",
       "      <td>0.80</td>\n",
       "      <td>390</td>\n",
       "    </tr>\n",
       "    <tr>\n",
       "      <td>4</td>\n",
       "      <td>848289342070157316</td>\n",
       "      <td>18500852</td>\n",
       "      <td>2017-04-01 21:41:54</td>\n",
       "      <td>@IamShawty25 Thx Becca!</td>\n",
       "      <td>2</td>\n",
       "      <td>0.01</td>\n",
       "      <td>0.01</td>\n",
       "      <td>0.14</td>\n",
       "      <td>0.30</td>\n",
       "      <td>0.05</td>\n",
       "      <td>0.49</td>\n",
       "      <td>390</td>\n",
       "    </tr>\n",
       "  </tbody>\n",
       "</table>\n",
       "</div>"
      ],
      "text/plain": [
       "            status_id   user_id   status_created_at  \\\n",
       "0  849487356289839106  18500852 2017-04-05 05:02:23   \n",
       "1  848290670926286848  18500852 2017-04-01 21:47:11   \n",
       "2  848289925552373762  18500852 2017-04-01 21:44:13   \n",
       "3  848289528787939328  18500852 2017-04-01 21:42:38   \n",
       "4  848289342070157316  18500852 2017-04-01 21:41:54   \n",
       "\n",
       "                                                                                    text  \\\n",
       "0  Thanks so much! https://t.co/xTL6fY7Fd7                                                 \n",
       "1  @BAFastestMan Promise to let you know once it does!                                     \n",
       "2  @CalzerBrown Thank you Callum!                                                          \n",
       "3  RT @khalisound: Dope tone HELIUM @MikeyWax Download on iTunes https://t.co/F7sGV62wiW   \n",
       "4  @IamShawty25 Thx Becca!                                                                 \n",
       "\n",
       "   retweet_count  anger  disgust  fear  joy  sadness  surprise  \\\n",
       "0  6             0.01   0.00     0.00  0.29 0.00     0.70        \n",
       "1  1             0.02   0.01     0.14  0.16 0.02     0.65        \n",
       "2  1             0.01   0.00     0.12  0.76 0.00     0.11        \n",
       "3  2             0.01   0.01     0.06  0.08 0.04     0.80        \n",
       "4  2             0.01   0.01     0.14  0.30 0.05     0.49        \n",
       "\n",
       "   nr_of_status_in_dataset  \n",
       "0  390                      \n",
       "1  390                      \n",
       "2  390                      \n",
       "3  390                      \n",
       "4  390                      "
      ]
     },
     "execution_count": 14,
     "metadata": {},
     "output_type": "execute_result"
    }
   ],
   "source": [
    "df['nr_of_status_in_dataset'] = df[['user_id', 'status_id']].groupby('user_id').transform('count')\n",
    "df.head()"
   ]
  },
  {
   "cell_type": "code",
   "execution_count": 15,
   "metadata": {},
   "outputs": [],
   "source": [
    "df_user_id = df[['user_id', 'status_id']].groupby('user_id').agg('count')"
   ]
  },
  {
   "cell_type": "code",
   "execution_count": 16,
   "metadata": {},
   "outputs": [
    {
     "data": {
      "text/plain": [
       "<matplotlib.axes._subplots.AxesSubplot at 0x7f86751a20f0>"
      ]
     },
     "execution_count": 16,
     "metadata": {},
     "output_type": "execute_result"
    },
    {
     "data": {
      "image/png": "[encoded data removed]",
      "text/plain": [
       "<Figure size 1224x360 with 1 Axes>"
      ]
     },
     "metadata": {
      "needs_background": "light"
     },
     "output_type": "display_data"
    }
   ],
   "source": [
    "df_user_id.plot(kind='hist', legend=False, bins=32, figsize=(17,5))"
   ]
  },
  {
   "cell_type": "code",
   "execution_count": 17,
   "metadata": {},
   "outputs": [
    {
     "data": {
      "text/plain": [
       "<matplotlib.axes._subplots.AxesSubplot at 0x7f86751389e8>"
      ]
     },
     "execution_count": 17,
     "metadata": {},
     "output_type": "execute_result"
    },
    {
     "data": {
      "image/png": "[encoded data removed]",
      "text/plain": [
       "<Figure size 432x288 with 1 Axes>"
      ]
     },
     "metadata": {
      "needs_background": "light"
     },
     "output_type": "display_data"
    }
   ],
   "source": [
    "sns.violinplot(x=df_user_id, inner='quartiles', figsize=(25,5))"
   ]
  },
  {
   "cell_type": "code",
   "execution_count": 18,
   "metadata": {},
   "outputs": [
    {
     "data": {
      "text/plain": [
       "<matplotlib.axes._subplots.AxesSubplot at 0x7f8674db5860>"
      ]
     },
     "execution_count": 18,
     "metadata": {},
     "output_type": "execute_result"
    },
    {
     "data": {
      "image/png": "[encoded data removed]",
      "text/plain": [
       "<Figure size 432x288 with 1 Axes>"
      ]
     },
     "metadata": {
      "needs_background": "light"
     },
     "output_type": "display_data"
    }
   ],
   "source": [
    "sns.violinplot(y=df_user_id)"
   ]
  },
  {
   "cell_type": "code",
   "execution_count": 19,
   "metadata": {},
   "outputs": [
    {
     "data": {
      "text/html": [
       "<div>\n",
       "<style scoped>\n",
       "    .dataframe tbody tr th:only-of-type {\n",
       "        vertical-align: middle;\n",
       "    }\n",
       "\n",
       "    .dataframe tbody tr th {\n",
       "        vertical-align: top;\n",
       "    }\n",
       "\n",
       "    .dataframe thead th {\n",
       "        text-align: right;\n",
       "    }\n",
       "</style>\n",
       "<table border=\"1\" class=\"dataframe\">\n",
       "  <thead>\n",
       "    <tr style=\"text-align: right;\">\n",
       "      <th></th>\n",
       "      <th>status_id</th>\n",
       "    </tr>\n",
       "  </thead>\n",
       "  <tbody>\n",
       "    <tr>\n",
       "      <td>count</td>\n",
       "      <td>2.00</td>\n",
       "    </tr>\n",
       "    <tr>\n",
       "      <td>mean</td>\n",
       "      <td>651.50</td>\n",
       "    </tr>\n",
       "    <tr>\n",
       "      <td>std</td>\n",
       "      <td>369.82</td>\n",
       "    </tr>\n",
       "    <tr>\n",
       "      <td>min</td>\n",
       "      <td>390.00</td>\n",
       "    </tr>\n",
       "    <tr>\n",
       "      <td>25%</td>\n",
       "      <td>520.75</td>\n",
       "    </tr>\n",
       "    <tr>\n",
       "      <td>50%</td>\n",
       "      <td>651.50</td>\n",
       "    </tr>\n",
       "    <tr>\n",
       "      <td>75%</td>\n",
       "      <td>782.25</td>\n",
       "    </tr>\n",
       "    <tr>\n",
       "      <td>max</td>\n",
       "      <td>913.00</td>\n",
       "    </tr>\n",
       "  </tbody>\n",
       "</table>\n",
       "</div>"
      ],
      "text/plain": [
       "       status_id\n",
       "count 2.00      \n",
       "mean  651.50    \n",
       "std   369.82    \n",
       "min   390.00    \n",
       "25%   520.75    \n",
       "50%   651.50    \n",
       "75%   782.25    \n",
       "max   913.00    "
      ]
     },
     "execution_count": 19,
     "metadata": {},
     "output_type": "execute_result"
    }
   ],
   "source": [
    "df_user_id.describe()"
   ]
  },
  {
   "cell_type": "code",
   "execution_count": 20,
   "metadata": {},
   "outputs": [
    {
     "data": {
      "text/html": [
       "<div>\n",
       "<style scoped>\n",
       "    .dataframe tbody tr th:only-of-type {\n",
       "        vertical-align: middle;\n",
       "    }\n",
       "\n",
       "    .dataframe tbody tr th {\n",
       "        vertical-align: top;\n",
       "    }\n",
       "\n",
       "    .dataframe thead th {\n",
       "        text-align: right;\n",
       "    }\n",
       "</style>\n",
       "<table border=\"1\" class=\"dataframe\">\n",
       "  <thead>\n",
       "    <tr style=\"text-align: right;\">\n",
       "      <th></th>\n",
       "      <th>status_id</th>\n",
       "    </tr>\n",
       "    <tr>\n",
       "      <th>user_id</th>\n",
       "      <th></th>\n",
       "    </tr>\n",
       "  </thead>\n",
       "  <tbody>\n",
       "    <tr>\n",
       "      <td>18500852</td>\n",
       "      <td>390</td>\n",
       "    </tr>\n",
       "    <tr>\n",
       "      <td>799609398721122304</td>\n",
       "      <td>913</td>\n",
       "    </tr>\n",
       "  </tbody>\n",
       "</table>\n",
       "</div>"
      ],
      "text/plain": [
       "                    status_id\n",
       "user_id                      \n",
       "18500852            390      \n",
       "799609398721122304  913      "
      ]
     },
     "execution_count": 20,
     "metadata": {},
     "output_type": "execute_result"
    }
   ],
   "source": [
    "df_user_id.tail()"
   ]
  },
  {
   "cell_type": "markdown",
   "metadata": {},
   "source": [
    "# Number of unique status updates"
   ]
  },
  {
   "cell_type": "code",
   "execution_count": 21,
   "metadata": {},
   "outputs": [
    {
     "name": "stdout",
     "output_type": "stream",
     "text": [
      "1303 / 1303 status updates are unique\n"
     ]
    }
   ],
   "source": [
    "rows, columns = df.shape\n",
    "df_status_id_count = df['status_id'].nunique()\n",
    "print(df_status_id_count, '/', rows, 'status updates are unique')"
   ]
  },
  {
   "cell_type": "markdown",
   "metadata": {},
   "source": [
    "# Emotions of all users over time"
   ]
  },
  {
   "cell_type": "code",
   "execution_count": 22,
   "metadata": {},
   "outputs": [
    {
     "data": {
      "text/html": [
       "<style  type=\"text/css\" >\n",
       "    #T_a109bb3a_5587_11ea_840e_0242c0a8100frow0_col0 {\n",
       "            background-color:  #e0fce0;\n",
       "            color:  #000000;\n",
       "        }    #T_a109bb3a_5587_11ea_840e_0242c0a8100frow0_col1 {\n",
       "            background-color:  #e5ffe5;\n",
       "            color:  #000000;\n",
       "        }    #T_a109bb3a_5587_11ea_840e_0242c0a8100frow0_col2 {\n",
       "            background-color:  #b1e2b1;\n",
       "            color:  #000000;\n",
       "        }    #T_a109bb3a_5587_11ea_840e_0242c0a8100frow0_col3 {\n",
       "            background-color:  #008000;\n",
       "            color:  #f1f1f1;\n",
       "        }    #T_a109bb3a_5587_11ea_840e_0242c0a8100frow0_col4 {\n",
       "            background-color:  #ccf1cc;\n",
       "            color:  #000000;\n",
       "        }    #T_a109bb3a_5587_11ea_840e_0242c0a8100frow0_col5 {\n",
       "            background-color:  #2d992d;\n",
       "            color:  #000000;\n",
       "        }    #T_a109bb3a_5587_11ea_840e_0242c0a8100frow1_col0 {\n",
       "            background-color:  #e4fee4;\n",
       "            color:  #000000;\n",
       "        }    #T_a109bb3a_5587_11ea_840e_0242c0a8100frow1_col1 {\n",
       "            background-color:  #e5ffe5;\n",
       "            color:  #000000;\n",
       "        }    #T_a109bb3a_5587_11ea_840e_0242c0a8100frow1_col2 {\n",
       "            background-color:  #bde9bd;\n",
       "            color:  #000000;\n",
       "        }    #T_a109bb3a_5587_11ea_840e_0242c0a8100frow1_col3 {\n",
       "            background-color:  #008000;\n",
       "            color:  #f1f1f1;\n",
       "        }    #T_a109bb3a_5587_11ea_840e_0242c0a8100frow1_col4 {\n",
       "            background-color:  #dcfadc;\n",
       "            color:  #000000;\n",
       "        }    #T_a109bb3a_5587_11ea_840e_0242c0a8100frow1_col5 {\n",
       "            background-color:  #a3daa3;\n",
       "            color:  #000000;\n",
       "        }    #T_a109bb3a_5587_11ea_840e_0242c0a8100frow2_col0 {\n",
       "            background-color:  #e3fee3;\n",
       "            color:  #000000;\n",
       "        }    #T_a109bb3a_5587_11ea_840e_0242c0a8100frow2_col1 {\n",
       "            background-color:  #e5ffe5;\n",
       "            color:  #000000;\n",
       "        }    #T_a109bb3a_5587_11ea_840e_0242c0a8100frow2_col2 {\n",
       "            background-color:  #bde9bd;\n",
       "            color:  #000000;\n",
       "        }    #T_a109bb3a_5587_11ea_840e_0242c0a8100frow2_col3 {\n",
       "            background-color:  #008000;\n",
       "            color:  #f1f1f1;\n",
       "        }    #T_a109bb3a_5587_11ea_840e_0242c0a8100frow2_col4 {\n",
       "            background-color:  #e1fde1;\n",
       "            color:  #000000;\n",
       "        }    #T_a109bb3a_5587_11ea_840e_0242c0a8100frow2_col5 {\n",
       "            background-color:  #bce8bc;\n",
       "            color:  #000000;\n",
       "        }</style><table id=\"T_a109bb3a_5587_11ea_840e_0242c0a8100f\" ><thead>    <tr>        <th class=\"blank level0\" ></th>        <th class=\"col_heading level0 col0\" >anger</th>        <th class=\"col_heading level0 col1\" >disgust</th>        <th class=\"col_heading level0 col2\" >fear</th>        <th class=\"col_heading level0 col3\" >joy</th>        <th class=\"col_heading level0 col4\" >sadness</th>        <th class=\"col_heading level0 col5\" >surprise</th>    </tr>    <tr>        <th class=\"index_name level0\" >year</th>        <th class=\"blank\" ></th>        <th class=\"blank\" ></th>        <th class=\"blank\" ></th>        <th class=\"blank\" ></th>        <th class=\"blank\" ></th>        <th class=\"blank\" ></th>    </tr></thead><tbody>\n",
       "                <tr>\n",
       "                        <th id=\"T_a109bb3a_5587_11ea_840e_0242c0a8100flevel0_row0\" class=\"row_heading level0 row0\" >2017</th>\n",
       "                        <td id=\"T_a109bb3a_5587_11ea_840e_0242c0a8100frow0_col0\" class=\"data row0 col0\" >0.0187978</td>\n",
       "                        <td id=\"T_a109bb3a_5587_11ea_840e_0242c0a8100frow0_col1\" class=\"data row0 col1\" >0.00808514</td>\n",
       "                        <td id=\"T_a109bb3a_5587_11ea_840e_0242c0a8100frow0_col2\" class=\"data row0 col2\" >0.109216</td>\n",
       "                        <td id=\"T_a109bb3a_5587_11ea_840e_0242c0a8100frow0_col3\" class=\"data row0 col3\" >0.447521</td>\n",
       "                        <td id=\"T_a109bb3a_5587_11ea_840e_0242c0a8100frow0_col4\" class=\"data row0 col4\" >0.0563853</td>\n",
       "                        <td id=\"T_a109bb3a_5587_11ea_840e_0242c0a8100frow0_col5\" class=\"data row0 col5\" >0.359995</td>\n",
       "            </tr>\n",
       "            <tr>\n",
       "                        <th id=\"T_a109bb3a_5587_11ea_840e_0242c0a8100flevel0_row1\" class=\"row_heading level0 row1\" >2019</th>\n",
       "                        <td id=\"T_a109bb3a_5587_11ea_840e_0242c0a8100frow1_col0\" class=\"data row1 col0\" >0.0109376</td>\n",
       "                        <td id=\"T_a109bb3a_5587_11ea_840e_0242c0a8100frow1_col1\" class=\"data row1 col1\" >0.00464511</td>\n",
       "                        <td id=\"T_a109bb3a_5587_11ea_840e_0242c0a8100frow1_col2\" class=\"data row1 col2\" >0.118466</td>\n",
       "                        <td id=\"T_a109bb3a_5587_11ea_840e_0242c0a8100frow1_col3\" class=\"data row1 col3\" >0.643305</td>\n",
       "                        <td id=\"T_a109bb3a_5587_11ea_840e_0242c0a8100frow1_col4\" class=\"data row1 col4\" >0.031441</td>\n",
       "                        <td id=\"T_a109bb3a_5587_11ea_840e_0242c0a8100frow1_col5\" class=\"data row1 col5\" >0.191205</td>\n",
       "            </tr>\n",
       "            <tr>\n",
       "                        <th id=\"T_a109bb3a_5587_11ea_840e_0242c0a8100flevel0_row2\" class=\"row_heading level0 row2\" >2020</th>\n",
       "                        <td id=\"T_a109bb3a_5587_11ea_840e_0242c0a8100frow2_col0\" class=\"data row2 col0\" >0.0118584</td>\n",
       "                        <td id=\"T_a109bb3a_5587_11ea_840e_0242c0a8100frow2_col1\" class=\"data row2 col1\" >0.00237629</td>\n",
       "                        <td id=\"T_a109bb3a_5587_11ea_840e_0242c0a8100frow2_col2\" class=\"data row2 col2\" >0.128598</td>\n",
       "                        <td id=\"T_a109bb3a_5587_11ea_840e_0242c0a8100frow2_col3\" class=\"data row2 col3\" >0.708456</td>\n",
       "                        <td id=\"T_a109bb3a_5587_11ea_840e_0242c0a8100frow2_col4\" class=\"data row2 col4\" >0.0186693</td>\n",
       "                        <td id=\"T_a109bb3a_5587_11ea_840e_0242c0a8100frow2_col5\" class=\"data row2 col5\" >0.130042</td>\n",
       "            </tr>\n",
       "    </tbody></table>"
      ],
      "text/plain": [
       "<pandas.io.formats.style.Styler at 0x7f8674c22278>"
      ]
     },
     "execution_count": 22,
     "metadata": {},
     "output_type": "execute_result"
    }
   ],
   "source": [
    "cm = sns.light_palette(\"green\", as_cmap=True)\n",
    "\n",
    "df_avg_emotions_per_year = df.drop(['retweet_count', 'text', 'nr_of_status_in_dataset'], axis=1)\n",
    "\n",
    "df_avg_emotions_per_year['year'] = df_avg_emotions_per_year['status_created_at'].dt.year\n",
    "\n",
    "df_avg_emotions_per_year = df_avg_emotions_per_year.groupby(['year']).agg('mean')\n",
    "df_avg_emotions_per_year.style.background_gradient(cmap=cm, axis=1)"
   ]
  },
  {
   "cell_type": "code",
   "execution_count": 23,
   "metadata": {},
   "outputs": [
    {
     "data": {
      "text/plain": [
       "[Text(0, 0, '2017'), Text(0, 0, '2019'), Text(0, 0, '2020')]"
      ]
     },
     "execution_count": 23,
     "metadata": {},
     "output_type": "execute_result"
    },
    {
     "data": {
      "image/png": "[encoded data removed]",
      "text/plain": [
       "<Figure size 1080x360 with 1 Axes>"
      ]
     },
     "metadata": {
      "needs_background": "light"
     },
     "output_type": "display_data"
    }
   ],
   "source": [
    "ax = df_avg_emotions_per_year.plot(figsize=(15,5))\n",
    "ax.set_xticks(df_avg_emotions_per_year.index)\n",
    "ax.set_xticklabels(df_avg_emotions_per_year.index, rotation=90)"
   ]
  },
  {
   "cell_type": "code",
   "execution_count": 24,
   "metadata": {},
   "outputs": [
    {
     "data": {
      "text/plain": [
       "<matplotlib.axes._subplots.AxesSubplot at 0x7f8670835470>"
      ]
     },
     "execution_count": 24,
     "metadata": {},
     "output_type": "execute_result"
    },
    {
     "data": {
      "image/png": "[encoded data removed]",
      "text/plain": [
       "<Figure size 1080x360 with 1 Axes>"
      ]
     },
     "metadata": {
      "needs_background": "light"
     },
     "output_type": "display_data"
    }
   ],
   "source": [
    "df_avg_emotions_over_time = df.drop(['retweet_count', 'text', 'nr_of_status_in_dataset'], axis=1)\n",
    "\n",
    "df_avg_emotions_over_time['year'] = df_avg_emotions_over_time['status_created_at'].dt.year\n",
    "df_avg_emotions_over_time['month'] = df_avg_emotions_over_time['status_created_at'].dt.month\n",
    "\n",
    "df_all_emotions = df_avg_emotions_over_time.groupby(['year', 'month']).agg('mean')\n",
    "df_all_emotions.plot(figsize=(15,5))"
   ]
  }
 ],
 "metadata": {
  "kernelspec": {
   "display_name": "Python 3",
   "language": "python",
   "name": "python3"
  },
  "language_info": {
   "codemirror_mode": {
    "name": "ipython",
    "version": 3
   },
   "file_extension": ".py",
   "mimetype": "text/x-python",
   "name": "python",
   "nbconvert_exporter": "python",
   "pygments_lexer": "ipython3",
   "version": "3.7.3"
  }
 },
 "nbformat": 4,
 "nbformat_minor": 1
}
